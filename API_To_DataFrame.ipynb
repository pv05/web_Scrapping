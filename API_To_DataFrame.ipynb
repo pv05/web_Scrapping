{
 "cells": [
  {
   "cell_type": "code",
   "execution_count": 1,
   "id": "de1451d5",
   "metadata": {},
   "outputs": [],
   "source": [
    "import pandas as pd \n",
    "import requests\n",
    "import numpy as np"
   ]
  },
  {
   "cell_type": "code",
   "execution_count": 2,
   "id": "8147ff13",
   "metadata": {},
   "outputs": [],
   "source": [
    "respose = requests.get('https://api.themoviedb.org/3/movie/popular?api_key=88cacc33658425acdb11fa37422eb4e2&language=en-US&page=1').json()"
   ]
  },
  {
   "cell_type": "code",
   "execution_count": 3,
   "id": "fea00cff",
   "metadata": {},
   "outputs": [
    {
     "data": {
      "text/plain": [
       "897.129"
      ]
     },
     "execution_count": 3,
     "metadata": {},
     "output_type": "execute_result"
    }
   ],
   "source": [
    "respose['results'][19]['popularity']"
   ]
  },
  {
   "cell_type": "code",
   "execution_count": 4,
   "id": "ca69c61d",
   "metadata": {},
   "outputs": [],
   "source": [
    "popularity = [] \n",
    "vote_count = []\n",
    "original_language = []\n",
    "title = []\n",
    "vote_average = []\n",
    "overview = []\n",
    "release_date = [] "
   ]
  },
  {
   "cell_type": "code",
   "execution_count": 5,
   "id": "da5e6081",
   "metadata": {},
   "outputs": [],
   "source": [
    "for i in range(len(respose['results'])): # coz, there length is 20 so, automaticly detected\n",
    "    popularity.append(respose['results'][i]['popularity'])\n",
    "    vote_count.append(respose['results'][i]['vote_count'])\n",
    "    original_language.append(respose['results'][i]['original_language'])\n",
    "    title.append(respose['results'][i]['title'])\n",
    "    vote_average.append(respose['results'][i]['vote_average'])\n",
    "    overview.append(respose['results'][i]['overview'])\n",
    "    release_date.append(respose['results'][i]['release_date'])"
   ]
  },
  {
   "cell_type": "code",
   "execution_count": 6,
   "id": "2ce3a78b",
   "metadata": {},
   "outputs": [],
   "source": [
    "dictonrey = {'popularity':popularity,'vote_count':vote_count, 'original_language':original_language,'title':title,'vote_average':vote_average, 'overview':overview,'release_date':release_date}"
   ]
  },
  {
   "cell_type": "code",
   "execution_count": 7,
   "id": "9e043c24",
   "metadata": {},
   "outputs": [
    {
     "data": {
      "text/plain": [
       "(20, 20, 20, 20, 20, 20, 20)"
      ]
     },
     "execution_count": 7,
     "metadata": {},
     "output_type": "execute_result"
    }
   ],
   "source": [
    "len(popularity),len(vote_count),len(original_language),len(title),len(vote_average),len(overview),len(release_date)"
   ]
  },
  {
   "cell_type": "code",
   "execution_count": 8,
   "id": "a59de3c2",
   "metadata": {},
   "outputs": [],
   "source": [
    "dataset = pd.DataFrame(dictonrey)"
   ]
  },
  {
   "cell_type": "code",
   "execution_count": 9,
   "id": "a407d994",
   "metadata": {},
   "outputs": [
    {
     "data": {
      "text/html": [
       "<div>\n",
       "<style scoped>\n",
       "    .dataframe tbody tr th:only-of-type {\n",
       "        vertical-align: middle;\n",
       "    }\n",
       "\n",
       "    .dataframe tbody tr th {\n",
       "        vertical-align: top;\n",
       "    }\n",
       "\n",
       "    .dataframe thead th {\n",
       "        text-align: right;\n",
       "    }\n",
       "</style>\n",
       "<table border=\"1\" class=\"dataframe\">\n",
       "  <thead>\n",
       "    <tr style=\"text-align: right;\">\n",
       "      <th></th>\n",
       "      <th>popularity</th>\n",
       "      <th>vote_count</th>\n",
       "      <th>original_language</th>\n",
       "      <th>title</th>\n",
       "      <th>vote_average</th>\n",
       "      <th>overview</th>\n",
       "      <th>release_date</th>\n",
       "    </tr>\n",
       "  </thead>\n",
       "  <tbody>\n",
       "    <tr>\n",
       "      <th>4</th>\n",
       "      <td>2782.527</td>\n",
       "      <td>295</td>\n",
       "      <td>en</td>\n",
       "      <td>Encanto</td>\n",
       "      <td>7.4</td>\n",
       "      <td>The tale of an extraordinary family, the Madri...</td>\n",
       "      <td>2021-11-24</td>\n",
       "    </tr>\n",
       "  </tbody>\n",
       "</table>\n",
       "</div>"
      ],
      "text/plain": [
       "   popularity  vote_count original_language    title  vote_average  \\\n",
       "4    2782.527         295                en  Encanto           7.4   \n",
       "\n",
       "                                            overview release_date  \n",
       "4  The tale of an extraordinary family, the Madri...   2021-11-24  "
      ]
     },
     "execution_count": 9,
     "metadata": {},
     "output_type": "execute_result"
    }
   ],
   "source": [
    "dataset.sample(1)"
   ]
  },
  {
   "cell_type": "code",
   "execution_count": 10,
   "id": "6fa80497",
   "metadata": {},
   "outputs": [],
   "source": [
    "popularity = [] \n",
    "vote_count = []\n",
    "original_language = []\n",
    "title = []\n",
    "vote_average = []\n",
    "overview = []\n",
    "release_date = [] "
   ]
  },
  {
   "cell_type": "code",
   "execution_count": 11,
   "id": "e4ce3b47",
   "metadata": {},
   "outputs": [],
   "source": [
    "for j in range(1,501):\n",
    "    respose = requests.get(f'https://api.themoviedb.org/3/movie/popular?api_key=88cacc33658425acdb11fa37422eb4e2&language=en-US&page={j}').json()\n",
    "    \n",
    "    for i in range(len(respose['results'])): # coz, there length is 20 so, automaticly detected\n",
    "        popularity.append(respose['results'][i]['popularity'])\n",
    "        vote_count.append(respose['results'][i]['vote_count'])\n",
    "        original_language.append(respose['results'][i]['original_language'])\n",
    "        title.append(respose['results'][i]['title'])\n",
    "        vote_average.append(respose['results'][i]['vote_average'])\n",
    "        overview.append(respose['results'][i]['overview'])\n",
    "        try:\n",
    "            release_date.append(respose['results'][i]['release_date'])\n",
    "        except:\n",
    "            release_date.append(np.nan)\n",
    "    \n",
    "    dictonrey = {'popularity':popularity,'vote_count':vote_count, 'original_language':original_language,'title':title,'vote_average':vote_average, 'overview':overview,'release_date':release_date}\n",
    "    \n",
    "    df = pd.DataFrame(dictonrey)"
   ]
  },
  {
   "cell_type": "code",
   "execution_count": 24,
   "id": "635a0e47",
   "metadata": {},
   "outputs": [
    {
     "data": {
      "text/html": [
       "<div>\n",
       "<style scoped>\n",
       "    .dataframe tbody tr th:only-of-type {\n",
       "        vertical-align: middle;\n",
       "    }\n",
       "\n",
       "    .dataframe tbody tr th {\n",
       "        vertical-align: top;\n",
       "    }\n",
       "\n",
       "    .dataframe thead th {\n",
       "        text-align: right;\n",
       "    }\n",
       "</style>\n",
       "<table border=\"1\" class=\"dataframe\">\n",
       "  <thead>\n",
       "    <tr style=\"text-align: right;\">\n",
       "      <th></th>\n",
       "      <th>popularity</th>\n",
       "      <th>vote_count</th>\n",
       "      <th>original_language</th>\n",
       "      <th>title</th>\n",
       "      <th>vote_average</th>\n",
       "      <th>overview</th>\n",
       "      <th>release_date</th>\n",
       "    </tr>\n",
       "  </thead>\n",
       "  <tbody>\n",
       "    <tr>\n",
       "      <th>0</th>\n",
       "      <td>7534.804</td>\n",
       "      <td>4337</td>\n",
       "      <td>en</td>\n",
       "      <td>Venom: Let There Be Carnage</td>\n",
       "      <td>7.2</td>\n",
       "      <td>After finding a host body in investigative rep...</td>\n",
       "      <td>2021-09-30</td>\n",
       "    </tr>\n",
       "    <tr>\n",
       "      <th>1</th>\n",
       "      <td>4173.995</td>\n",
       "      <td>1931</td>\n",
       "      <td>en</td>\n",
       "      <td>Red Notice</td>\n",
       "      <td>6.8</td>\n",
       "      <td>An Interpol-issued Red Notice is a global aler...</td>\n",
       "      <td>2021-11-04</td>\n",
       "    </tr>\n",
       "    <tr>\n",
       "      <th>2</th>\n",
       "      <td>2824.034</td>\n",
       "      <td>841</td>\n",
       "      <td>en</td>\n",
       "      <td>The Last Duel</td>\n",
       "      <td>7.6</td>\n",
       "      <td>King Charles VI declares that Knight Jean de C...</td>\n",
       "      <td>2021-10-13</td>\n",
       "    </tr>\n",
       "    <tr>\n",
       "      <th>3</th>\n",
       "      <td>2960.577</td>\n",
       "      <td>509</td>\n",
       "      <td>en</td>\n",
       "      <td>Clifford the Big Red Dog</td>\n",
       "      <td>7.5</td>\n",
       "      <td>As Emily struggles to fit in at home and at sc...</td>\n",
       "      <td>2021-11-10</td>\n",
       "    </tr>\n",
       "    <tr>\n",
       "      <th>4</th>\n",
       "      <td>2782.527</td>\n",
       "      <td>295</td>\n",
       "      <td>en</td>\n",
       "      <td>Encanto</td>\n",
       "      <td>7.4</td>\n",
       "      <td>The tale of an extraordinary family, the Madri...</td>\n",
       "      <td>2021-11-24</td>\n",
       "    </tr>\n",
       "    <tr>\n",
       "      <th>...</th>\n",
       "      <td>...</td>\n",
       "      <td>...</td>\n",
       "      <td>...</td>\n",
       "      <td>...</td>\n",
       "      <td>...</td>\n",
       "      <td>...</td>\n",
       "      <td>...</td>\n",
       "    </tr>\n",
       "    <tr>\n",
       "      <th>9995</th>\n",
       "      <td>10.614</td>\n",
       "      <td>384</td>\n",
       "      <td>fr</td>\n",
       "      <td>The Past</td>\n",
       "      <td>7.3</td>\n",
       "      <td>After four years apart, Ahmad returns to his w...</td>\n",
       "      <td>2013-05-17</td>\n",
       "    </tr>\n",
       "    <tr>\n",
       "      <th>9996</th>\n",
       "      <td>10.614</td>\n",
       "      <td>142</td>\n",
       "      <td>en</td>\n",
       "      <td>Fortress 2</td>\n",
       "      <td>5.0</td>\n",
       "      <td>7 years on from the original Fortress movie, B...</td>\n",
       "      <td>2000-03-02</td>\n",
       "    </tr>\n",
       "    <tr>\n",
       "      <th>9997</th>\n",
       "      <td>9.759</td>\n",
       "      <td>81</td>\n",
       "      <td>en</td>\n",
       "      <td>Malibu Rescue: The Next Wave</td>\n",
       "      <td>6.6</td>\n",
       "      <td>It’s summer again, and everyone’s favorite Jun...</td>\n",
       "      <td>2020-08-04</td>\n",
       "    </tr>\n",
       "    <tr>\n",
       "      <th>9998</th>\n",
       "      <td>10.612</td>\n",
       "      <td>1299</td>\n",
       "      <td>en</td>\n",
       "      <td>Brüno</td>\n",
       "      <td>5.6</td>\n",
       "      <td>Flamboyantly gay Austrian television reporter ...</td>\n",
       "      <td>2009-07-08</td>\n",
       "    </tr>\n",
       "    <tr>\n",
       "      <th>9999</th>\n",
       "      <td>10.611</td>\n",
       "      <td>400</td>\n",
       "      <td>en</td>\n",
       "      <td>The Secret: Dare to Dream</td>\n",
       "      <td>7.3</td>\n",
       "      <td>A widow with three children hires a handyman t...</td>\n",
       "      <td>2020-04-16</td>\n",
       "    </tr>\n",
       "  </tbody>\n",
       "</table>\n",
       "<p>10000 rows × 7 columns</p>\n",
       "</div>"
      ],
      "text/plain": [
       "      popularity  vote_count original_language                         title  \\\n",
       "0       7534.804        4337                en   Venom: Let There Be Carnage   \n",
       "1       4173.995        1931                en                    Red Notice   \n",
       "2       2824.034         841                en                 The Last Duel   \n",
       "3       2960.577         509                en      Clifford the Big Red Dog   \n",
       "4       2782.527         295                en                       Encanto   \n",
       "...          ...         ...               ...                           ...   \n",
       "9995      10.614         384                fr                      The Past   \n",
       "9996      10.614         142                en                    Fortress 2   \n",
       "9997       9.759          81                en  Malibu Rescue: The Next Wave   \n",
       "9998      10.612        1299                en                         Brüno   \n",
       "9999      10.611         400                en     The Secret: Dare to Dream   \n",
       "\n",
       "      vote_average                                           overview  \\\n",
       "0              7.2  After finding a host body in investigative rep...   \n",
       "1              6.8  An Interpol-issued Red Notice is a global aler...   \n",
       "2              7.6  King Charles VI declares that Knight Jean de C...   \n",
       "3              7.5  As Emily struggles to fit in at home and at sc...   \n",
       "4              7.4  The tale of an extraordinary family, the Madri...   \n",
       "...            ...                                                ...   \n",
       "9995           7.3  After four years apart, Ahmad returns to his w...   \n",
       "9996           5.0  7 years on from the original Fortress movie, B...   \n",
       "9997           6.6  It’s summer again, and everyone’s favorite Jun...   \n",
       "9998           5.6  Flamboyantly gay Austrian television reporter ...   \n",
       "9999           7.3  A widow with three children hires a handyman t...   \n",
       "\n",
       "     release_date  \n",
       "0      2021-09-30  \n",
       "1      2021-11-04  \n",
       "2      2021-10-13  \n",
       "3      2021-11-10  \n",
       "4      2021-11-24  \n",
       "...           ...  \n",
       "9995   2013-05-17  \n",
       "9996   2000-03-02  \n",
       "9997   2020-08-04  \n",
       "9998   2009-07-08  \n",
       "9999   2020-04-16  \n",
       "\n",
       "[10000 rows x 7 columns]"
      ]
     },
     "execution_count": 24,
     "metadata": {},
     "output_type": "execute_result"
    }
   ],
   "source": [
    "df"
   ]
  },
  {
   "cell_type": "code",
   "execution_count": null,
   "id": "78daa7f5",
   "metadata": {},
   "outputs": [],
   "source": []
  },
  {
   "cell_type": "code",
   "execution_count": null,
   "id": "a96f82f1",
   "metadata": {},
   "outputs": [],
   "source": []
  },
  {
   "cell_type": "code",
   "execution_count": null,
   "id": "3540f2d6",
   "metadata": {},
   "outputs": [],
   "source": []
  },
  {
   "cell_type": "code",
   "execution_count": null,
   "id": "e1327f99",
   "metadata": {},
   "outputs": [],
   "source": []
  },
  {
   "cell_type": "code",
   "execution_count": null,
   "id": "8c0ff5de",
   "metadata": {},
   "outputs": [],
   "source": []
  },
  {
   "cell_type": "code",
   "execution_count": null,
   "id": "0c6c9840",
   "metadata": {},
   "outputs": [],
   "source": []
  },
  {
   "cell_type": "code",
   "execution_count": null,
   "id": "b74803f2",
   "metadata": {},
   "outputs": [],
   "source": []
  },
  {
   "cell_type": "code",
   "execution_count": null,
   "id": "70f85e7d",
   "metadata": {},
   "outputs": [],
   "source": []
  },
  {
   "cell_type": "code",
   "execution_count": null,
   "id": "d1a3ac7e",
   "metadata": {},
   "outputs": [],
   "source": []
  },
  {
   "cell_type": "code",
   "execution_count": null,
   "id": "106190a3",
   "metadata": {},
   "outputs": [],
   "source": []
  },
  {
   "cell_type": "code",
   "execution_count": null,
   "id": "f887120d",
   "metadata": {},
   "outputs": [],
   "source": []
  },
  {
   "cell_type": "code",
   "execution_count": null,
   "id": "20d1ba5b",
   "metadata": {},
   "outputs": [],
   "source": []
  }
 ],
 "metadata": {
  "kernelspec": {
   "display_name": "Python 3",
   "language": "python",
   "name": "python3"
  },
  "language_info": {
   "codemirror_mode": {
    "name": "ipython",
    "version": 3
   },
   "file_extension": ".py",
   "mimetype": "text/x-python",
   "name": "python",
   "nbconvert_exporter": "python",
   "pygments_lexer": "ipython3",
   "version": "3.8.8"
  },
  "toc": {
   "base_numbering": 1,
   "nav_menu": {},
   "number_sections": true,
   "sideBar": true,
   "skip_h1_title": false,
   "title_cell": "Table of Contents",
   "title_sidebar": "Contents",
   "toc_cell": false,
   "toc_position": {},
   "toc_section_display": true,
   "toc_window_display": false
  }
 },
 "nbformat": 4,
 "nbformat_minor": 5
}
